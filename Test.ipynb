{
 "cells": [
  {
   "cell_type": "code",
   "execution_count": 1,
   "metadata": {},
   "outputs": [],
   "source": [
    "import os\n",
    "from dotenv import load_dotenv\n",
    "\n",
    "# Load environment variables from .env file\n",
    "load_dotenv()\n",
    "\n",
    "os.environ[\"LANGSMITH_TRACING\"] = os.getenv(\"LANGSMITH_TRACING\")\n",
    "os.environ[\"LANGSMITH_API_KEY\"] = os.getenv(\"LANGSMITH_API_KEY\")\n",
    "os.environ[\"TAVILY_API_KEY\"] = os.getenv(\"TAVILY_API_KEY\")\n",
    "os.environ[\"GOOGLE_API_KEY\"] = os.getenv(\"Gemini_Api_Key\")\n",
    "os.environ[\"serpapi_key\"] = os.getenv(\"serp_api_key\")\n"
   ]
  },
  {
   "cell_type": "code",
   "execution_count": 15,
   "metadata": {},
   "outputs": [],
   "source": [
    "#sql db implementation\n",
    "import sqlite3\n",
    "from typing import List, Tuple\n",
    "\n",
    "class NewsDatabase:\n",
    "    def __init__(self, db_name: str = \"news.db\"):\n",
    "        self.db_name = db_name\n",
    "        self.create_table()\n",
    "    \n",
    "    def create_table(self):\n",
    "        with sqlite3.connect(self.db_name) as conn:\n",
    "            cursor = conn.cursor()\n",
    "            cursor.execute('''\n",
    "                CREATE TABLE IF NOT EXISTS News (\n",
    "                    Slno INTEGER PRIMARY KEY AUTOINCREMENT,\n",
    "                    Title TEXT NOT NULL,\n",
    "                    Link TEXT NOT NULL,\n",
    "                    Snippet TEXT,\n",
    "                \n",
    "                )\n",
    "            ''')\n",
    "            conn.commit()\n",
    "    \n",
    "    def insert_news(self, title: str, link: str, snippet:str) -> bool:\n",
    "        try:\n",
    "            with sqlite3.connect(self.db_name) as conn:\n",
    "                cursor = conn.cursor()\n",
    "                cursor.execute(\n",
    "                    \"INSERT INTO News (Title, Link,Snippet) VALUES (?, ?,?)\",\n",
    "                    (title, link,snippet)\n",
    "                )\n",
    "                conn.commit()\n",
    "                return True\n",
    "        except Exception as e:\n",
    "            print(f\"Error inserting news: {e}\")\n",
    "            return False\n",
    "    \n",
    "    def get_all_news(self) -> List[Tuple]:\n",
    "        with sqlite3.connect(self.db_name) as conn:\n",
    "            cursor = conn.cursor()\n",
    "            cursor.execute(\"SELECT * FROM News\")\n",
    "            return cursor.fetchall()"
   ]
  },
  {
   "cell_type": "markdown",
   "metadata": {},
   "source": [
    "serp api tool defnision"
   ]
  },
  {
   "cell_type": "code",
   "execution_count": 17,
   "metadata": {},
   "outputs": [],
   "source": [
    "from typing import Optional\n",
    "from langchain_core.tools import BaseTool\n",
    "from serpapi import GoogleSearch\n",
    "\n",
    "class SerpAPINewsTool(BaseTool):\n",
    "    name:str = \"serpapi_news_search\"\n",
    "    description: str = (\"Useful for searching recent news articles about a specific topic. \"\n",
    "                       \"Input should be a search query string. \"\n",
    "                       \"First determine whether user is seeking for news or not, if yes then search for news articles related to the query. \"\n",
    "                       \"For example if user asks for news about covid-19, then pass covid-19 to tool, even user doesn't mention news directly in query.\")\n",
    "    \n",
    "    def _run(self, query: str) -> str:\n",
    "        params = {\n",
    "            \"q\": query,\n",
    "            \"api_key\": os.environ[\"serpapi_key\"],\n",
    "            \"tbm\": \"nws\",\n",
    "            \"hl\": \"en\",\n",
    "            \"gl\": \"In\",\n",
    "        }\n",
    "        \n",
    "        try:\n",
    "            search = GoogleSearch(params)\n",
    "            results = search.get_dict()\n",
    "            \n",
    "            if \"news_results\" in results:\n",
    "                # Format the results\n",
    "                formatted_results = []\n",
    "                for article in results[\"news_results\"][:10]:  # Limit to top 10 news results\n",
    "                    title = article['title']\n",
    "                    link = article.get('link', '')\n",
    "                    snippet = article.get('snippet', '')\n",
    "                    \n",
    "                    # Store in database\n",
    "                    self.db.insert_news(title, link,snippet)\n",
    "                    \n",
    "                    formatted_results.append(\n",
    "                        f\"Title: {title}\\n\"\n",
    "                        f\"Link: {link}\\n\"\n",
    "                        f\"Snippet: {snippet}\\n\"\n",
    "                    )\n",
    "                return formatted_results\n",
    "            return \"No news results found.\"\n",
    "            \n",
    "        except Exception as e:\n",
    "            return f\"Error performing news search: {str(e)}\"\n",
    "\n",
    "    def _arun(self, query: str) -> str:\n",
    "        # Async implementation would go here\n",
    "        raise NotImplementedError(\"Async version not implemented\")"
   ]
  },
  {
   "cell_type": "code",
   "execution_count": 3,
   "metadata": {},
   "outputs": [],
   "source": [
    "from langchain_community.tools.tavily_search import TavilySearchResults\n",
    "search = TavilySearchResults(max_results=2)\n",
    "#serch_results = search.invoke(\"what is the weather in Chennai\")\n",
    "\n",
    "#print(serch_results)\n",
    "#add serpapi tool\n",
    "serpapi_news = SerpAPINewsTool()\n",
    "\n",
    "tools = [search,serpapi_news]"
   ]
  },
  {
   "cell_type": "code",
   "execution_count": 5,
   "metadata": {},
   "outputs": [
    {
     "name": "stderr",
     "output_type": "stream",
     "text": [
      "f:\\GitRepo\\Langchain_Experiment\\env\\Lib\\site-packages\\tqdm\\auto.py:21: TqdmWarning: IProgress not found. Please update jupyter and ipywidgets. See https://ipywidgets.readthedocs.io/en/stable/user_install.html\n",
      "  from .autonotebook import tqdm as notebook_tqdm\n"
     ]
    }
   ],
   "source": [
    "from langchain_google_genai import ChatGoogleGenerativeAI\n",
    "#creating llm instance\n",
    "llm = ChatGoogleGenerativeAI(\n",
    "    model=\"gemini-1.5-pro\",\n",
    "    temperature=0,\n",
    "    max_tokens=None,\n",
    "    timeout=None,\n",
    "    max_retries=2,\n",
    "    # other params...\n",
    ")"
   ]
  },
  {
   "cell_type": "markdown",
   "metadata": {},
   "source": [
    "Following 4 cells experiment with travily search"
   ]
  },
  {
   "cell_type": "code",
   "execution_count": null,
   "metadata": {},
   "outputs": [],
   "source": [
    "from langchain_core.messages import HumanMessage\n",
    "# response = llm.invoke([HumanMessage(content=\"what is the weather in Chennai\")])\n",
    "# print(response)"
   ]
  },
  {
   "cell_type": "code",
   "execution_count": 10,
   "metadata": {},
   "outputs": [],
   "source": [
    "model_with_tools = llm.bind_tools(tools)"
   ]
  },
  {
   "cell_type": "code",
   "execution_count": 11,
   "metadata": {},
   "outputs": [],
   "source": [
    "from langgraph.prebuilt import create_react_agent\n",
    "agent_executor = create_react_agent(model_with_tools,tools)\n",
    "# response = agent_executor.invoke({\"messages\": [HumanMessage(content=\"hi!\")]})\n",
    "# response[\"messages\"]\n"
   ]
  },
  {
   "cell_type": "code",
   "execution_count": 12,
   "metadata": {},
   "outputs": [
    {
     "data": {
      "text/plain": [
       "[HumanMessage(content='what is the weather in Chennai', additional_kwargs={}, response_metadata={}, id='02194fc5-1f57-45b1-ac72-a2e2cbd3d636'),\n",
       " AIMessage(content='', additional_kwargs={'function_call': {'name': 'tavily_search_results_json', 'arguments': '{\"query\": \"weather in Chennai\"}'}}, response_metadata={'prompt_feedback': {'block_reason': 0, 'safety_ratings': []}, 'finish_reason': 'STOP', 'safety_ratings': []}, id='run-e4c36b31-c0c3-4c57-90c1-89e2f62bf06f-0', tool_calls=[{'name': 'tavily_search_results_json', 'args': {'query': 'weather in Chennai'}, 'id': 'e34e4a70-b591-48bb-a697-4ef622c150dc', 'type': 'tool_call'}], usage_metadata={'input_tokens': 130, 'output_tokens': 12, 'total_tokens': 142, 'input_token_details': {'cache_read': 0}}),\n",
       " ToolMessage(content='[{\"url\": \"https://www.weatherapi.com/\", \"content\": \"{\\'location\\': {\\'name\\': \\'Chennai\\', \\'region\\': \\'Tamil Nadu\\', \\'country\\': \\'India\\', \\'lat\\': 13.0833, \\'lon\\': 80.2833, \\'tz_id\\': \\'Asia/Kolkata\\', \\'localtime_epoch\\': 1737623585, \\'localtime\\': \\'2025-01-23 14:43\\'}, \\'current\\': {\\'last_updated_epoch\\': 1737622800, \\'last_updated\\': \\'2025-01-23 14:30\\', \\'temp_c\\': 29.1, \\'temp_f\\': 84.4, \\'is_day\\': 1, \\'condition\\': {\\'text\\': \\'Partly cloudy\\', \\'icon\\': \\'//cdn.weatherapi.com/weather/64x64/day/116.png\\', \\'code\\': 1003}, \\'wind_mph\\': 10.5, \\'wind_kph\\': 16.9, \\'wind_degree\\': 65, \\'wind_dir\\': \\'ENE\\', \\'pressure_mb\\': 1010.0, \\'pressure_in\\': 29.83, \\'precip_mm\\': 0.0, \\'precip_in\\': 0.0, \\'humidity\\': 70, \\'cloud\\': 50, \\'feelslike_c\\': 31.7, \\'feelslike_f\\': 89.0, \\'windchill_c\\': 26.9, \\'windchill_f\\': 80.3, \\'heatindex_c\\': 28.3, \\'heatindex_f\\': 82.9, \\'dewpoint_c\\': 18.8, \\'dewpoint_f\\': 65.9, \\'vis_km\\': 6.0, \\'vis_miles\\': 3.0, \\'uv\\': 5.6, \\'gust_mph\\': 12.4, \\'gust_kph\\': 19.9}}\"}, {\"url\": \"https://www.livemint.com/news/india/chennai-weather-forecast-today-on-january-23-2025-check-latest-imd-rain-predictions-temperature-air-quality-index-11737595815511.html\", \"content\": \"Chennai Weather Forecast and AQI Today: The temperature in Chennai recorded 26.22 °C on January 23, 2025, as per the India Meteorological Department (IMD). The forecast from IMD indicates a\"}]', name='tavily_search_results_json', id='f9825600-dc1b-4bad-8596-fdd262d041c8', tool_call_id='e34e4a70-b591-48bb-a697-4ef622c150dc', artifact={'query': 'weather in Chennai', 'follow_up_questions': None, 'answer': None, 'images': [], 'results': [{'title': 'Weather in Chennai', 'url': 'https://www.weatherapi.com/', 'content': \"{'location': {'name': 'Chennai', 'region': 'Tamil Nadu', 'country': 'India', 'lat': 13.0833, 'lon': 80.2833, 'tz_id': 'Asia/Kolkata', 'localtime_epoch': 1737623585, 'localtime': '2025-01-23 14:43'}, 'current': {'last_updated_epoch': 1737622800, 'last_updated': '2025-01-23 14:30', 'temp_c': 29.1, 'temp_f': 84.4, 'is_day': 1, 'condition': {'text': 'Partly cloudy', 'icon': '//cdn.weatherapi.com/weather/64x64/day/116.png', 'code': 1003}, 'wind_mph': 10.5, 'wind_kph': 16.9, 'wind_degree': 65, 'wind_dir': 'ENE', 'pressure_mb': 1010.0, 'pressure_in': 29.83, 'precip_mm': 0.0, 'precip_in': 0.0, 'humidity': 70, 'cloud': 50, 'feelslike_c': 31.7, 'feelslike_f': 89.0, 'windchill_c': 26.9, 'windchill_f': 80.3, 'heatindex_c': 28.3, 'heatindex_f': 82.9, 'dewpoint_c': 18.8, 'dewpoint_f': 65.9, 'vis_km': 6.0, 'vis_miles': 3.0, 'uv': 5.6, 'gust_mph': 12.4, 'gust_kph': 19.9}}\", 'score': 0.98704, 'raw_content': None}, {'title': 'Chennai Weather Forecast and AQI Today on January 23, 2025: Warm ... - Mint', 'url': 'https://www.livemint.com/news/india/chennai-weather-forecast-today-on-january-23-2025-check-latest-imd-rain-predictions-temperature-air-quality-index-11737595815511.html', 'content': 'Chennai Weather Forecast and AQI Today: The temperature in Chennai recorded 26.22 °C on January 23, 2025, as per the India Meteorological Department (IMD). The forecast from IMD indicates a', 'score': 0.9530353, 'raw_content': None}], 'response_time': 2.65}),\n",
       " AIMessage(content='The weather in Chennai, India is partly cloudy with a temperature of 29.1°C. The wind is blowing from the ENE at 16.9 kph. The humidity is 70% and the UV index is 5.6.  The forecast for today, January 23, 2025, is 26.22°C.', additional_kwargs={}, response_metadata={'prompt_feedback': {'block_reason': 0, 'safety_ratings': []}, 'finish_reason': 'STOP', 'safety_ratings': []}, id='run-9ced3320-7105-40fe-bf6c-ab0079057648-0', usage_metadata={'input_tokens': 838, 'output_tokens': 83, 'total_tokens': 921, 'input_token_details': {'cache_read': 0}})]"
      ]
     },
     "execution_count": 12,
     "metadata": {},
     "output_type": "execute_result"
    }
   ],
   "source": [
    "#test call\n",
    "# response = agent_executor.invoke({\"messages\": [HumanMessage(content=\"hi!\")]})\n",
    "# response[\"messages\"]\n",
    "# trying to get the weather using tool\n",
    "# response = agent_executor.invoke({\"messages\": [HumanMessage(content=\"what is the weather in Chennai\")]})\n",
    "# response[\"messages\"]"
   ]
  },
  {
   "cell_type": "markdown",
   "metadata": {},
   "source": [
    "Following cell experimnet with serpapi"
   ]
  },
  {
   "cell_type": "code",
   "execution_count": 13,
   "metadata": {},
   "outputs": [
    {
     "name": "stdout",
     "output_type": "stream",
     "text": [
      "[HumanMessage(content='What are the latest news about artificial intelligence?', additional_kwargs={}, response_metadata={}, id='3b408289-1b9d-4cea-80ab-f34bf3068750'), AIMessage(content='', additional_kwargs={'function_call': {'name': 'serpapi_news_search', 'arguments': '{\"query\": \"artificial intelligence\"}'}}, response_metadata={'prompt_feedback': {'block_reason': 0, 'safety_ratings': []}, 'finish_reason': 'STOP', 'safety_ratings': []}, id='run-b5255484-95dd-44dd-9c6f-7c523d312f51-0', tool_calls=[{'name': 'serpapi_news_search', 'args': {'query': 'artificial intelligence'}, 'id': '0bd7a110-cd97-45a3-a115-1a958848319d', 'type': 'tool_call'}], usage_metadata={'input_tokens': 133, 'output_tokens': 9, 'total_tokens': 142, 'input_token_details': {'cache_read': 0}}), ToolMessage(content=\"Title: Trump announces private-sector $500 billion investment in AI infrastructure\\nLink: https://www.reuters.com/technology/artificial-intelligence/trump-announce-private-sector-ai-infrastructure-investment-cbs-reports-2025-01-21/\\n\\nTitle: Goldman Sachs rolls out an AI assistant for its employees as artificial intelligence sweeps Wall Street\\nLink: https://www.cnbc.com/2025/01/21/goldman-sachs-launches-ai-assistant.html\\n\\nTitle: LinkedIn sued in US for giving users' private messages to train artificial intelligence models: Report\\nLink: https://www.hindustantimes.com/business/linkedin-sued-in-us-for-giving-users-private-messages-to-train-artificial-intelligence-models-report-101737607741269.html\", name='serpapi_news_search', id='3eb8c4a5-6f30-4240-916a-92309c47deff', tool_call_id='0bd7a110-cd97-45a3-a115-1a958848319d'), AIMessage(content=\"Here are some of the latest news about artificial intelligence:\\n\\n* Trump announces private-sector $500 billion investment in AI infrastructure\\n* Goldman Sachs rolls out an AI assistant for its employees as artificial intelligence sweeps Wall Street\\n* LinkedIn sued in US for giving users' private messages to train artificial intelligence models\", additional_kwargs={}, response_metadata={'prompt_feedback': {'block_reason': 0, 'safety_ratings': []}, 'finish_reason': 'STOP', 'safety_ratings': []}, id='run-acab8d18-2131-4663-a596-a6ccb4c11363-0', usage_metadata={'input_tokens': 380, 'output_tokens': 63, 'total_tokens': 443, 'input_token_details': {'cache_read': 0}})]\n"
     ]
    }
   ],
   "source": [
    "response = agent_executor.invoke({\n",
    "    \"messages\": [\n",
    "        HumanMessage(content=\"What are the latest news about artificial intelligence?\")\n",
    "    ]\n",
    "})\n",
    "print(response[\"messages\"])"
   ]
  }
 ],
 "metadata": {
  "kernelspec": {
   "display_name": "env",
   "language": "python",
   "name": "python3"
  },
  "language_info": {
   "codemirror_mode": {
    "name": "ipython",
    "version": 3
   },
   "file_extension": ".py",
   "mimetype": "text/x-python",
   "name": "python",
   "nbconvert_exporter": "python",
   "pygments_lexer": "ipython3",
   "version": "3.13.1"
  }
 },
 "nbformat": 4,
 "nbformat_minor": 2
}
